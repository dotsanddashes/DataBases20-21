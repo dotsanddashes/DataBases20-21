{
 "cells": [
  {
   "cell_type": "markdown",
   "metadata": {},
   "source": [
    "В этой тетрадке приведены примеры выполнения различных запросов к БД. Сами запросы можно посмотреть в файле _commands.py_, откуда они импортируются.\n",
    "\n",
    "Начнем как раз с импорта всего необходимого: нам нужны модуль _mysql.connector_ для взаимодействия с базой данных, пароль пользователя (чтобы не а) хардкодить б) светить им), и сам список команд."
   ]
  },
  {
   "cell_type": "code",
   "execution_count": 1,
   "metadata": {},
   "outputs": [],
   "source": [
    "import mysql.connector\n",
    "from conf import user_pswd\n",
    "from commands import *"
   ]
  },
  {
   "cell_type": "markdown",
   "metadata": {},
   "source": [
    "Создадим подключение и курсор для работы."
   ]
  },
  {
   "cell_type": "code",
   "execution_count": 2,
   "metadata": {},
   "outputs": [],
   "source": [
    "cnx = mysql.connector.connect(user='user', password = user_pswd, database='final_project')\n",
    "cursor = cnx.cursor()"
   ]
  },
  {
   "cell_type": "markdown",
   "metadata": {},
   "source": [
    "# Простые селекты\n",
    "\n",
    "1. Получение данных о студенте\n",
    "    * по id\n",
    "    * по имени студента"
   ]
  },
  {
   "cell_type": "code",
   "execution_count": 3,
   "metadata": {},
   "outputs": [],
   "source": [
    "stud_id = 13\n",
    "stud_name = 'Петухова Маруся Мефодьевна'"
   ]
  },
  {
   "cell_type": "code",
   "execution_count": 4,
   "metadata": {},
   "outputs": [
    {
     "name": "stdout",
     "output_type": "stream",
     "text": [
      "Маликова Даша Оскаровна, группа 11, 1-й курс.\n"
     ]
    }
   ],
   "source": [
    "cursor.execute(student_by_id, (stud_id,))\n",
    "\n",
    "for (name, group_num, year) in cursor:\n",
    "    print(\"{}, группа {}, {}-й курс.\".format(\n",
    "        name, group_num, year))"
   ]
  },
  {
   "cell_type": "code",
   "execution_count": 5,
   "metadata": {},
   "outputs": [
    {
     "name": "stdout",
     "output_type": "stream",
     "text": [
      "Петухова Маруся Мефодьевна, группа 31, 3-й курс.\n"
     ]
    }
   ],
   "source": [
    "cursor.execute(student_by_name, (stud_name,))\n",
    "\n",
    "for (group_num, year) in cursor:\n",
    "    print(\"{}, группа {}, {}-й курс.\".format(\n",
    "        stud_name, group_num, year))"
   ]
  },
  {
   "cell_type": "markdown",
   "metadata": {},
   "source": [
    "2. Получения списка\n",
    "    * группы\n",
    "    * курса"
   ]
  },
  {
   "cell_type": "code",
   "execution_count": 6,
   "metadata": {},
   "outputs": [
    {
     "name": "stdout",
     "output_type": "stream",
     "text": [
      "Студентов в группе: 54\n"
     ]
    }
   ],
   "source": [
    "group_num = 42\n",
    "\n",
    "cursor.execute(group_list, (group_num,))\n",
    "\n",
    "group = []\n",
    "for name in cursor:\n",
    "    group.append(name[0])\n",
    "print('Студентов в группе: {}'.format(len(group)))"
   ]
  },
  {
   "cell_type": "code",
   "execution_count": 7,
   "metadata": {},
   "outputs": [
    {
     "name": "stdout",
     "output_type": "stream",
     "text": [
      "Студентов на курсе: 153\n"
     ]
    }
   ],
   "source": [
    "year = 3\n",
    "\n",
    "cursor.execute(year_list, (year,))\n",
    "\n",
    "all_year = []\n",
    "for name in cursor:\n",
    "    all_year.append(name[0])\n",
    "print('Студентов на курсе: {}'.format(len(all_year)))"
   ]
  },
  {
   "cell_type": "markdown",
   "metadata": {},
   "source": [
    "3. Простые селекты из нескольких таблиц\n",
    "    * по имени преподавателя найти, какие он ведет предметы (2 таблицы)\n",
    "    * вывести все общепотоковые предметы для какого-нибудь курса (2 таблицы)\n",
    "    * вывести список студентов, посещающих какой-нибудь курс по выбору (3 таблицы)"
   ]
  },
  {
   "cell_type": "code",
   "execution_count": 8,
   "metadata": {},
   "outputs": [
    {
     "name": "stdout",
     "output_type": "stream",
     "text": [
      "Теоретические Теории Грамматики\n",
      "Лексические Подходы Лингвистики\n"
     ]
    }
   ],
   "source": [
    "prof_name = 'Павлюк Газинур Саддамович'\n",
    "\n",
    "cursor.execute(professors_courses, (prof_name,))\n",
    "\n",
    "for name in cursor:\n",
    "    print(name[0])"
   ]
  },
  {
   "cell_type": "code",
   "execution_count": 9,
   "metadata": {
    "scrolled": true
   },
   "outputs": [
    {
     "name": "stdout",
     "output_type": "stream",
     "text": [
      "Аналитические Истоки Семантики\n",
      "Аналитические Теории Синтаксиса\n",
      "Функциональные Приложения Синтаксиса\n",
      "Теоретические Приложения Лингвистики\n",
      "Динамические Приложения Лингвистики\n",
      "Динамические Направления Грамматики\n",
      "Лексические Подходы Синтаксиса\n"
     ]
    }
   ],
   "source": [
    "# мы уже получали список студентов третьего курса, так что общепотоковые предметы будем смотреть тоже для него\n",
    "\n",
    "cursor.execute(year_courses, (year,))\n",
    "\n",
    "for name in cursor:\n",
    "    print(name[0])"
   ]
  },
  {
   "cell_type": "code",
   "execution_count": 10,
   "metadata": {},
   "outputs": [
    {
     "name": "stdout",
     "output_type": "stream",
     "text": [
      "Левина Милена Протасовна, группа 32, 3-й курс.\n",
      "Петров Павел Алоизович, группа 23, 2-й курс.\n",
      "Сулейманов Ильгам Назарович, группа 42, 4-й курс.\n",
      "Исаков Адлан Павлинович, группа 12, 1-й курс.\n",
      "Кудрявцева Наиля Гаврииловна, группа 12, 1-й курс.\n",
      "Новикова Изабелла Адриановна, группа 23, 2-й курс.\n",
      "Лебедев Федор Богданович, группа 41, 4-й курс.\n",
      "Кузнецов Кирилл Альвианович, группа 42, 4-й курс.\n",
      "Лукьянова Аниля Кадыровна, группа 11, 1-й курс.\n",
      "Шульга Костя Львовна, группа 31, 3-й курс.\n"
     ]
    }
   ],
   "source": [
    "choice_course = 'Аналитические Подходы Вычислений'\n",
    "\n",
    "cursor.execute(choice_list, (choice_course,))\n",
    "\n",
    "for (name, group_num, year) in cursor:\n",
    "    print(\"{}, группа {}, {}-й курс.\".format(\n",
    "        name, group_num, year))"
   ]
  },
  {
   "cell_type": "markdown",
   "metadata": {},
   "source": [
    "# Вложенный селект\n",
    "\n",
    "По имени студента вывести все курсы, на которые он записан"
   ]
  },
  {
   "cell_type": "code",
   "execution_count": 11,
   "metadata": {},
   "outputs": [
    {
     "name": "stdout",
     "output_type": "stream",
     "text": [
      "Курс: Аналитические Истоки Семантики\t\t Код курса: 5\n",
      "Курс: Аналитические Теории Синтаксиса\t\t Код курса: 17\n",
      "Курс: Функциональные Приложения Синтаксиса\t\t Код курса: 21\n",
      "Курс: Теоретические Приложения Лингвистики\t\t Код курса: 29\n",
      "Курс: Динамические Приложения Лингвистики\t\t Код курса: 43\n",
      "Курс: Динамические Направления Грамматики\t\t Код курса: 44\n",
      "Курс: Лексические Подходы Синтаксиса\t\t Код курса: 45\n"
     ]
    }
   ],
   "source": [
    "cursor.execute(students_courses, (stud_name,)*3)\n",
    "\n",
    "for (name, course_id) in cursor:\n",
    "    print(\"Курс: {}\\t\\t Код курса: {}\".format(name, course_id))"
   ]
  },
  {
   "cell_type": "markdown",
   "metadata": {},
   "source": [
    "# Удаление\n",
    "\n",
    "\"Уволим\" преподавателей, которые ничего не ведут."
   ]
  },
  {
   "cell_type": "code",
   "execution_count": 12,
   "metadata": {},
   "outputs": [
    {
     "name": "stdout",
     "output_type": "stream",
     "text": [
      "Карташова Марина Садиковна\n",
      "Черникова Виктория Салаватовна\n",
      "Федосеева Ксения Самуиловна\n",
      "Трифонова Яна Севастьяновна\n",
      "Булатова Алла Севериновна\n",
      "Митрофанова Маргарита Семёновна\n",
      "Корнилова Кира Серапионовна\n",
      "Кадырова Дина Сергеевна\n",
      "Рубцова Варвара Сильвестровна\n",
      "Горшкова Ася Симоновна\n",
      "Усманова Зарина Созоновна\n",
      "Гуляева Раиса Созонтовна\n",
      "Мусина Лана Спиридоновна\n",
      "Зубкова Вероника Станиславна\n",
      "Минаева Изабелла Станиславовна\n",
      "Кучеренко Заурбек Робертович\n",
      "Леонтьев Азрет Родионович\n",
      "Лукьянов Батырбек Романович\n",
      "Любимов Ленур Ростиславич\n",
      "Гаврилюк Борислав Ростиславович\n",
      "Черненко Аревик Русланович\n",
      "Шмидт Размик Рушанович\n",
      "Мельничук Теймур Саввич\n",
      "Свиридов Мгер Савельевич\n",
      "Павлюк Газинур Саддамович\n",
      "Ульянов Григор Садикович\n",
      "Головин Виль Салаватович\n",
      "Терентьев Камо Самуилович\n",
      "Бабич Рустэм Севастьянович\n",
      "Чернышов Гавриил Северинович\n",
      "Всего преподавателей:  30\n"
     ]
    }
   ],
   "source": [
    "# для начала посмотрим, какие у нас есть преподаватели\n",
    "def show_prof():\n",
    "    show = \"SELECT name FROM professors\"\n",
    "    cursor.execute(show)\n",
    "\n",
    "    i = 0\n",
    "    for name in cursor:\n",
    "        print(name[0])\n",
    "        i+=1\n",
    "    return print('Всего преподавателей: ', i)\n",
    "\n",
    "show_prof()"
   ]
  },
  {
   "cell_type": "code",
   "execution_count": 13,
   "metadata": {},
   "outputs": [
    {
     "name": "stdout",
     "output_type": "stream",
     "text": [
      "Карташова Марина Садиковна\n",
      "Черникова Виктория Салаватовна\n",
      "Федосеева Ксения Самуиловна\n",
      "Трифонова Яна Севастьяновна\n",
      "Булатова Алла Севериновна\n",
      "Митрофанова Маргарита Семёновна\n",
      "Кадырова Дина Сергеевна\n",
      "Рубцова Варвара Сильвестровна\n",
      "Горшкова Ася Симоновна\n",
      "Усманова Зарина Созоновна\n",
      "Гуляева Раиса Созонтовна\n",
      "Мусина Лана Спиридоновна\n",
      "Зубкова Вероника Станиславна\n",
      "Леонтьев Азрет Родионович\n",
      "Лукьянов Батырбек Романович\n",
      "Любимов Ленур Ростиславич\n",
      "Черненко Аревик Русланович\n",
      "Шмидт Размик Рушанович\n",
      "Мельничук Теймур Саввич\n",
      "Свиридов Мгер Савельевич\n",
      "Павлюк Газинур Саддамович\n",
      "Ульянов Григор Садикович\n",
      "Головин Виль Салаватович\n",
      "Терентьев Камо Самуилович\n",
      "Бабич Рустэм Севастьянович\n",
      "Всего преподавателей:  25\n"
     ]
    }
   ],
   "source": [
    "delete_prof = (\"DELETE FROM professors WHERE prof_id NOT IN\"\n",
    "               \"(SELECT prof_id FROM courses)\")\n",
    "cursor.execute(delete_prof)\n",
    "show_prof()"
   ]
  },
  {
   "cell_type": "code",
   "execution_count": 14,
   "metadata": {},
   "outputs": [],
   "source": [
    "# так как это демонстрационная тетрадка, я не коммичу изменения в ДБ, а просто закрываю соединение\n",
    "cursor.close()\n",
    "cnx.close()"
   ]
  },
  {
   "cell_type": "code",
   "execution_count": null,
   "metadata": {},
   "outputs": [],
   "source": []
  }
 ],
 "metadata": {
  "kernelspec": {
   "display_name": "Python 3",
   "language": "python",
   "name": "python3"
  },
  "language_info": {
   "codemirror_mode": {
    "name": "ipython",
    "version": 3
   },
   "file_extension": ".py",
   "mimetype": "text/x-python",
   "name": "python",
   "nbconvert_exporter": "python",
   "pygments_lexer": "ipython3",
   "version": "3.8.5"
  }
 },
 "nbformat": 4,
 "nbformat_minor": 4
}
