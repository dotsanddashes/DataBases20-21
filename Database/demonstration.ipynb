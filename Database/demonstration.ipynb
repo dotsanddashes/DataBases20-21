{
 "cells": [
  {
   "cell_type": "markdown",
   "metadata": {},
   "source": [
    "В этой тетрадке приведены примеры выполнения различных запросов к БД. Сами запросы можно посмотреть в файле _commands.py_, откуда они импортируются.\n",
    "\n",
    "Начнем как раз с импорта всего необходимого: нам нужны модуль _mysql.connector_ для взаимодействия с базой данных, пароль пользователя (чтобы не а) хардкодить б) светить им), и сам список команд."
   ]
  },
  {
   "cell_type": "code",
   "execution_count": 1,
   "metadata": {},
   "outputs": [],
   "source": [
    "import mysql.connector\n",
    "from conf import user_pswd\n",
    "from commands import *"
   ]
  },
  {
   "cell_type": "markdown",
   "metadata": {},
   "source": [
    "Создадим подключение и курсор для работы."
   ]
  },
  {
   "cell_type": "code",
   "execution_count": 2,
   "metadata": {},
   "outputs": [],
   "source": [
    "cnx = mysql.connector.connect(user='user', password = user_pswd, database='final_project')\n",
    "cursor = cnx.cursor()"
   ]
  },
  {
   "cell_type": "markdown",
   "metadata": {},
   "source": [
    "# Простые селекты\n",
    "\n",
    "1. Получение данных о студенте\n",
    "    * по id\n",
    "    * по имени студента"
   ]
  },
  {
   "cell_type": "code",
   "execution_count": 3,
   "metadata": {},
   "outputs": [],
   "source": [
    "stud_name = 'Петухова Маруся Мефодьевна'"
   ]
  },
  {
   "cell_type": "code",
   "execution_count": 4,
   "metadata": {},
   "outputs": [],
   "source": [
    "def get_by_id(student_id):\n",
    "    cursor.execute(student_by_id, (student_id,))\n",
    "    \n",
    "    for (name, group_num, year) in cursor:\n",
    "        print(\"{}, группа {}, {}-й курс.\".format(name, group_num, year))\n",
    "    return"
   ]
  },
  {
   "cell_type": "code",
   "execution_count": 5,
   "metadata": {},
   "outputs": [
    {
     "name": "stdout",
     "output_type": "stream",
     "text": [
      "Маликова Даша Оскаровна, группа 11, 1-й курс.\n"
     ]
    }
   ],
   "source": [
    "get_by_id(13)"
   ]
  },
  {
   "cell_type": "code",
   "execution_count": 6,
   "metadata": {},
   "outputs": [],
   "source": [
    "def get_by_name(name):\n",
    "    cursor.execute(student_by_name, (name,))\n",
    "    for (group_num, year) in cursor:\n",
    "        print(\"{}, группа {}, {}-й курс.\".format(name, group_num, year))\n",
    "    return"
   ]
  },
  {
   "cell_type": "code",
   "execution_count": 7,
   "metadata": {},
   "outputs": [
    {
     "name": "stdout",
     "output_type": "stream",
     "text": [
      "Петухова Маруся Мефодьевна, группа 31, 3-й курс.\n"
     ]
    }
   ],
   "source": [
    "get_by_name(stud_name)"
   ]
  },
  {
   "cell_type": "markdown",
   "metadata": {},
   "source": [
    "2. Получения списка\n",
    "    * группы\n",
    "    * курса"
   ]
  },
  {
   "cell_type": "code",
   "execution_count": 8,
   "metadata": {},
   "outputs": [],
   "source": [
    "def get_group_list(group):\n",
    "    cursor.execute(group_list, (group,))\n",
    "\n",
    "    list_group = []\n",
    "    for name in cursor:\n",
    "        list_group.append(name[0])\n",
    "    return list_group"
   ]
  },
  {
   "cell_type": "code",
   "execution_count": 9,
   "metadata": {},
   "outputs": [
    {
     "name": "stdout",
     "output_type": "stream",
     "text": [
      "Студентов в группе: 54\n"
     ]
    }
   ],
   "source": [
    "list_group = get_group_list(42)\n",
    "print(\"Студентов в группе: {}\".format(len(list_group)))"
   ]
  },
  {
   "cell_type": "code",
   "execution_count": 10,
   "metadata": {},
   "outputs": [],
   "source": [
    "def get_year_list(year):\n",
    "    cursor.execute(year_list, (year,))\n",
    "    \n",
    "    edu_year = []\n",
    "    for name in cursor:\n",
    "        edu_year.append(name[0])\n",
    "    return edu_year"
   ]
  },
  {
   "cell_type": "code",
   "execution_count": 11,
   "metadata": {},
   "outputs": [
    {
     "name": "stdout",
     "output_type": "stream",
     "text": [
      "Студентов на курсе: 153\n"
     ]
    }
   ],
   "source": [
    "edu_year = get_year_list(3)\n",
    "print('Студентов на курсе: {}'.format(len(edu_year)))"
   ]
  },
  {
   "cell_type": "markdown",
   "metadata": {},
   "source": [
    "3. Простые селекты из нескольких таблиц\n",
    "    * по имени преподавателя найти, какие он ведет предметы (2 таблицы)\n",
    "    * вывести все общепотоковые предметы для какого-нибудь курса (2 таблицы)\n",
    "    * вывести список студентов, посещающих какой-нибудь курс по выбору (3 таблицы)"
   ]
  },
  {
   "cell_type": "code",
   "execution_count": 12,
   "metadata": {},
   "outputs": [],
   "source": [
    "prof_name = 'Павлюк Газинур Саддамович'\n",
    "\n",
    "def get_courses_by_prof(name):\n",
    "    cursor.execute(professors_courses, (prof_name,))\n",
    "    \n",
    "    list_courses = []\n",
    "    for name in cursor:\n",
    "        list_courses.append(name[0])\n",
    "    return list_courses"
   ]
  },
  {
   "cell_type": "code",
   "execution_count": 13,
   "metadata": {},
   "outputs": [
    {
     "name": "stdout",
     "output_type": "stream",
     "text": [
      "Теоретические Теории Грамматики\n",
      "Лексические Подходы Лингвистики\n"
     ]
    }
   ],
   "source": [
    "prof_courses = get_courses_by_prof(prof_name)\n",
    "for course in prof_courses:\n",
    "    print(course)"
   ]
  },
  {
   "cell_type": "code",
   "execution_count": 14,
   "metadata": {
    "scrolled": true
   },
   "outputs": [],
   "source": [
    "def courses_for_year(year):\n",
    "    cursor.execute(year_courses, (year,))\n",
    "    \n",
    "    courses_year = []\n",
    "    for name in cursor:\n",
    "        courses_year.append(name[0])\n",
    "    return courses_year"
   ]
  },
  {
   "cell_type": "code",
   "execution_count": 15,
   "metadata": {},
   "outputs": [
    {
     "name": "stdout",
     "output_type": "stream",
     "text": [
      "Динамические Теории Функций\n",
      "Лексические Уравнения Вычислений\n",
      "Статистические Уравнения Семантики\n",
      "Функциональные Процессы Функций\n"
     ]
    }
   ],
   "source": [
    "courses_year = courses_for_year(4)\n",
    "for course in courses_year:\n",
    "    print(course)"
   ]
  },
  {
   "cell_type": "code",
   "execution_count": 16,
   "metadata": {},
   "outputs": [],
   "source": [
    "choice_course = 'Аналитические Подходы Вычислений'\n",
    "\n",
    "def list_by_choice(name):\n",
    "    cursor.execute(choice_list, (name,))\n",
    "    \n",
    "    choice_students = []\n",
    "    for name in cursor:\n",
    "        choice_students.append(name)\n",
    "    return choice_students"
   ]
  },
  {
   "cell_type": "code",
   "execution_count": 17,
   "metadata": {},
   "outputs": [
    {
     "name": "stdout",
     "output_type": "stream",
     "text": [
      "Левина Милена Протасовна, группа 32, 3-й курс.\n",
      "Петров Павел Алоизович, группа 23, 2-й курс.\n",
      "Сулейманов Ильгам Назарович, группа 42, 4-й курс.\n",
      "Исаков Адлан Павлинович, группа 12, 1-й курс.\n",
      "Кудрявцева Наиля Гаврииловна, группа 12, 1-й курс.\n",
      "Новикова Изабелла Адриановна, группа 23, 2-й курс.\n",
      "Лебедев Федор Богданович, группа 41, 4-й курс.\n",
      "Кузнецов Кирилл Альвианович, группа 42, 4-й курс.\n",
      "Лукьянова Аниля Кадыровна, группа 11, 1-й курс.\n",
      "Шульга Костя Львовна, группа 31, 3-й курс.\n"
     ]
    }
   ],
   "source": [
    "choice_students = list_by_choice(choice_course)\n",
    "\n",
    "for (name, group_num, year) in choice_students:\n",
    "    print(\"{}, группа {}, {}-й курс.\".format(name, group_num, year))"
   ]
  },
  {
   "cell_type": "markdown",
   "metadata": {},
   "source": [
    "# Вложенный селект\n",
    "\n",
    "По имени студента вывести все курсы, на которые он записан"
   ]
  },
  {
   "cell_type": "code",
   "execution_count": 18,
   "metadata": {},
   "outputs": [],
   "source": [
    "def courses_for_student(name):\n",
    "    cursor.execute(students_courses, (name,)*3)\n",
    "    \n",
    "    courses_list = []\n",
    "    for name in cursor:\n",
    "        courses_list.append(name)\n",
    "    return courses_list"
   ]
  },
  {
   "cell_type": "code",
   "execution_count": 19,
   "metadata": {},
   "outputs": [
    {
     "name": "stdout",
     "output_type": "stream",
     "text": [
      "Код курса: 5\t Название курса: Аналитические Истоки Семантики\n",
      "Код курса: 17\t Название курса: Аналитические Теории Синтаксиса\n",
      "Код курса: 21\t Название курса: Функциональные Приложения Синтаксиса\n",
      "Код курса: 29\t Название курса: Теоретические Приложения Лингвистики\n",
      "Код курса: 43\t Название курса: Динамические Приложения Лингвистики\n",
      "Код курса: 44\t Название курса: Динамические Направления Грамматики\n",
      "Код курса: 45\t Название курса: Лексические Подходы Синтаксиса\n"
     ]
    }
   ],
   "source": [
    "courses_list = courses_for_student(stud_name)\n",
    "for (name, course_id) in courses_list:\n",
    "    print(\"Код курса: {}\\t Название курса: {}\".format(course_id, name))"
   ]
  },
  {
   "cell_type": "markdown",
   "metadata": {},
   "source": [
    "# Удаление\n",
    "\n",
    "\"Уволим\" преподавателей, которые ничего не ведут."
   ]
  },
  {
   "cell_type": "code",
   "execution_count": 20,
   "metadata": {},
   "outputs": [
    {
     "name": "stdout",
     "output_type": "stream",
     "text": [
      "Всего преподавателей: 30\n"
     ]
    }
   ],
   "source": [
    "# для начала получим список преподавателей\n",
    "def show_prof():\n",
    "    show = \"SELECT name FROM professors\"\n",
    "    cursor.execute(show)\n",
    "    \n",
    "    prof_list = []\n",
    "    for name in cursor:\n",
    "        prof_list.append(name[0])\n",
    "    return prof_list\n",
    "\n",
    "print(\"Всего преподавателей: {}\".format(len(show_prof())))"
   ]
  },
  {
   "cell_type": "code",
   "execution_count": 21,
   "metadata": {},
   "outputs": [
    {
     "name": "stdout",
     "output_type": "stream",
     "text": [
      "Всего преподавателей: 25\n"
     ]
    }
   ],
   "source": [
    "fire_prof = (\"DELETE FROM professors WHERE prof_id NOT IN\"\n",
    "               \"(SELECT prof_id FROM courses)\")\n",
    "cursor.execute(fire_prof)\n",
    "\n",
    "print(\"Всего преподавателей: {}\".format(len(show_prof())))"
   ]
  },
  {
   "cell_type": "markdown",
   "metadata": {},
   "source": [
    "# Вставка данных\n",
    "\n",
    "Добавим нового студента."
   ]
  },
  {
   "cell_type": "code",
   "execution_count": 22,
   "metadata": {},
   "outputs": [],
   "source": [
    "def new_student(name, group_num, year):\n",
    "    cursor.execute(add_student, (name, group_num, year))\n",
    "    return print(\"Student added succesfully.\")"
   ]
  },
  {
   "cell_type": "code",
   "execution_count": 23,
   "metadata": {
    "scrolled": false
   },
   "outputs": [
    {
     "name": "stdout",
     "output_type": "stream",
     "text": [
      "Student added succesfully.\n",
      "Григорьев Алексей Валерьевич, группа 32, 3-й курс.\n"
     ]
    }
   ],
   "source": [
    "new_stud = 'Григорьев Алексей Валерьевич'\n",
    "new_student(new_stud, 32, 3)\n",
    "get_by_name(new_stud)"
   ]
  },
  {
   "cell_type": "markdown",
   "metadata": {},
   "source": [
    "# Изменение данных\n",
    "\n",
    "Переведем только что добавленного студента в другую группу:"
   ]
  },
  {
   "cell_type": "code",
   "execution_count": 24,
   "metadata": {},
   "outputs": [],
   "source": [
    "def change_group(group, name):\n",
    "    cursor.execute(change_students_group, (group, name))\n",
    "    return print(\"Student's group changed.\")"
   ]
  },
  {
   "cell_type": "code",
   "execution_count": 25,
   "metadata": {},
   "outputs": [
    {
     "name": "stdout",
     "output_type": "stream",
     "text": [
      "Student's group changed.\n",
      "Григорьев Алексей Валерьевич, группа 31, 3-й курс.\n"
     ]
    }
   ],
   "source": [
    "change_group(31, new_stud)\n",
    "get_by_name(new_stud)"
   ]
  },
  {
   "cell_type": "markdown",
   "metadata": {},
   "source": [
    "И на другой курс:"
   ]
  },
  {
   "cell_type": "code",
   "execution_count": 26,
   "metadata": {},
   "outputs": [],
   "source": [
    "def change_year(year, name):\n",
    "    cursor.execute(\"SELECT group_num, year FROM students WHERE name=%s\", (name,))\n",
    "    for result in cursor:\n",
    "        old_group = result[0] % 10\n",
    "    new_group = old_group + year*10\n",
    "    cursor.execute(change_students_year, (new_group, year, name))\n",
    "    return print('Changed successfully.')"
   ]
  },
  {
   "cell_type": "code",
   "execution_count": 27,
   "metadata": {},
   "outputs": [
    {
     "name": "stdout",
     "output_type": "stream",
     "text": [
      "Changed successfully.\n",
      "Григорьев Алексей Валерьевич, группа 41, 4-й курс.\n"
     ]
    }
   ],
   "source": [
    "change_year(4, new_stud)\n",
    "get_by_name(new_stud)"
   ]
  },
  {
   "cell_type": "code",
   "execution_count": 28,
   "metadata": {},
   "outputs": [],
   "source": [
    "# так как это демонстрационная тетрадка, я не коммичу изменения в ДБ, а просто закрываю соединение\n",
    "cursor.close()\n",
    "cnx.close()"
   ]
  },
  {
   "cell_type": "code",
   "execution_count": null,
   "metadata": {},
   "outputs": [],
   "source": []
  }
 ],
 "metadata": {
  "kernelspec": {
   "display_name": "Python 3",
   "language": "python",
   "name": "python3"
  },
  "language_info": {
   "codemirror_mode": {
    "name": "ipython",
    "version": 3
   },
   "file_extension": ".py",
   "mimetype": "text/x-python",
   "name": "python",
   "nbconvert_exporter": "python",
   "pygments_lexer": "ipython3",
   "version": "3.8.5"
  }
 },
 "nbformat": 4,
 "nbformat_minor": 4
}
