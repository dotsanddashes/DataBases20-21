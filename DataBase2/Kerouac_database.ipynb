{
 "cells": [
  {
   "cell_type": "code",
   "execution_count": 1,
   "metadata": {},
   "outputs": [],
   "source": [
    "from neo4j import GraphDatabase, basic_auth\n",
    "\n",
    "driver = GraphDatabase.driver(\n",
    "    \"bolt://3.235.199.126:7687\", \n",
    "    auth=basic_auth(\"neo4j\", \"adverb-steel-lieutenant\"))\n",
    "session = driver.session()"
   ]
  },
  {
   "cell_type": "code",
   "execution_count": 2,
   "metadata": {},
   "outputs": [],
   "source": [
    "my_graph = {\"persons\":\n",
    " [{\"name\":\"Jack Kerouac\", \"year of birth\":\"1922\", \"year of death\":\"1969\", \"studied at\":\"Columbia University\"}, \n",
    "  {\"name\":\"Allen Ginsberg\", \"year of birth\":\"1926\", \"year of death\":\"1997\", \"studied at\":\"Columbia University\"},\n",
    "  {\"name\":\"William S. Burroughs\", \"year of birth\":\"1914\", \"year of death\":\"1997\", \"studied at\":\"Harvard University\"},\n",
    "  {\"name\":\"Neal Cassady\", \"year of birth\":\"1926\", \"year of death\":\"1968\", \"studied at\":\"\"},\n",
    "  {\"name\":\"Gary Snyder\", \"year of birth\":\"1930\", \"year of death\":\"\", \"studied at\":\"Reed College\"},\n",
    "  {\"name\":\"Carolyn Cassady\", \"year of birth\":\"1923\", \"year of death\":\"2013\", \"studied at\":\"\"},\n",
    "  {\"name\":\"Lucien Carr\", \"year of birth\":\"1925\", \"year of death\":\"2005\", \"studied at\":\"Columbia University\"},\n",
    "  {\"name\":\"Peter Orlovsky\", \"year of birth\":\"1933\", \"year of death\":\"2010\", \"studied at\":\"Columbia University\"},\n",
    "  {\"name\":\"Philip Whalen\", \"year of birth\":\"1923\", \"year of death\":\"2002\", \"studied at\":\"Reed College\"},\n",
    "  {\"name\":\"John Clellon Holmes\", \"year of birth\":\"1926\", \"year of death\":\"1988\", \"studied at\":\"\"}\n",
    " ],\n",
    " \"books\":\n",
    " [{\"name\":\"On the Road\", \"year of publication\":\"1957\"},\n",
    "  {\"name\":\"The Dharma Bums\", \"year of publication\":\"1958\"},\n",
    "  {\"name\":\"Big Sur\", \"year of publication\":\"1962\"},\n",
    "  {\"name\":\"Desolation Angels\", \"year of publication\":\"1965\"}\n",
    " ],\n",
    "\"colleges\":\n",
    " [{\"name\":\"Columbia University\", \"city\":\"New York\"},\n",
    "  {\"name\":\"Harvard University\", \"city\":\"Cambridge\"},\n",
    "  {\"name\":\"Reed College\", \"city\":\"Portland\"},\n",
    " ],\n",
    "\"characters\":\n",
    " [{\"name\":\"Sal Paradise\", \"book\":\"On the Road\", \"alter ego\": \"Jack Kerouac\"},\n",
    "  {\"name\":\"Carlo Marx\", \"book\":\"On the Road\", \"alter ego\": \"Allen Ginsberg\"},\n",
    "  {\"name\":\"Old Bull Lee\", \"book\":\"On the Road\", \"alter ego\": \"William S. Burroughs\"},\n",
    "  {\"name\":\"Dean Moriarty\", \"book\":\"On the Road\", \"alter ego\": \"Neal Cassady\"},\n",
    "  {\"name\":\"Camille\", \"book\":\"On the Road\", \"alter ego\": \"Carolyn Cassady\"},\n",
    "  {\"name\":\"Damion\", \"book\":\"On the Road\", \"alter ego\": \"Lucien Carr\"},\n",
    "  {\"name\":\"Ian MacArthur\", \"book\":\"On the Road\", \"alter ego\": \"John Clellon Holmes\"},\n",
    "  \n",
    "  {\"name\":\"Ray Smith\", \"book\":\"The Dharma Bums\", \"alter ego\": \"Jack Kerouac\"},\n",
    "  {\"name\":\"Alvah Goldbook\", \"book\":\"The Dharma Bums\", \"alter ego\": \"Allen Ginsberg\"},\n",
    "  {\"name\":\"Cody Pomeray\", \"book\":\"The Dharma Bums\", \"book2\":\"Big Sur\", \"book3\":\"Desolation Angels\", \"alter ego\": \"Neal Cassady\"},\n",
    "  {\"name\":\"Japhy Ryder\", \"book\":\"The Dharma Bums\", \"alter ego\": \"Gary Snyder\"},\n",
    "  {\"name\":\"Evelyn\", \"book\":\"The Dharma Bums\", \"book2\":\"Big Sur\", \"book3\":\"Desolation Angels\", \"alter ego\": \"Carolyn Cassady\"},\n",
    "  {\"name\":\"George\", \"book\":\"The Dharma Bums\", \"alter ego\": \"Peter Orlovsky\"},\n",
    "  {\"name\":\"Warren Coughlin\", \"book\":\"The Dharma Bums\", \"alter ego\": \"Philip Whalen\"},\n",
    "  \n",
    "  {\"name\":\"Jack Duluoz\", \"book\":\"Big Sur\", \"book2\":\"Desolation Angels\", \"alter ego\": \"Jack Kerouac\"},\n",
    "  {\"name\":\"Irwin Garden\", \"book\":\"Big Sur\", \"book2\":\"Desolation Angels\", \"alter ego\": \"Allen Ginsberg\"},\n",
    "  {\"name\":\"Jarry Wagner\", \"book\":\"Big Sur\", \"book2\":\"Desolation Angels\", \"alter ego\": \"Gary Snyder\"},\n",
    "  {\"name\":\"Ben Fagan\", \"book\":\"Big Sur\", \"alter ego\": \"Philip Whalen\"},\n",
    "  {\"name\":\"Julien\", \"book\":\"Big Sur\", \"alter ego\": \"Lucien Carr\"},\n",
    "  \n",
    "  {\"name\":\"Bull Hubbard\", \"book\":\"Desolation Angels\", \"alter ego\": \"William S. Burroughs\"},\n",
    "  {\"name\":\"Julien Love\", \"book\":\"Desolation Angels\", \"alter ego\": \"Lucien Carr\"},\n",
    "  {\"name\":\"Simon Darlovsky\", \"book\":\"Desolation Angels\", \"alter ego\": \"Peter Orlovsky\"}\n",
    " ]\n",
    "}"
   ]
  },
  {
   "cell_type": "code",
   "execution_count": 3,
   "metadata": {},
   "outputs": [],
   "source": [
    "def create_node(label, features):\n",
    "    req=\"CREATE (:\"+label+\" {\"+features+\"})\"\n",
    "    return session.run(req)\n",
    "def update_node(name, feat_name, feat):\n",
    "    req=\"MATCH (n {name:'\"+name+\"'}) SET n.\"+feat_name+\" = '\"+feat+\"'\"\n",
    "    return session.run(req)"
   ]
  },
  {
   "cell_type": "code",
   "execution_count": 4,
   "metadata": {},
   "outputs": [],
   "source": [
    "for i, pers in enumerate(my_graph[\"persons\"]):\n",
    "    label = 'person'\n",
    "    features = f'name:\"{pers[\"name\"]}\", birth_year:\"{pers[\"year of birth\"]}\", death_year:\"{pers[\"year of death\"]}\", studied:\"{pers[\"studied at\"]}\"'\n",
    "    create_node(label, features)\n",
    "for i, book in enumerate(my_graph[\"books\"]):\n",
    "    label = 'book'\n",
    "    features = f'name:\"{book[\"name\"]}\", public_year:\"{book[\"year of publication\"]}\"'\n",
    "    create_node(label, features)\n",
    "for i, college in enumerate(my_graph[\"colleges\"]):\n",
    "    label = 'college'\n",
    "    features = f'name:\"{college[\"name\"]}\", city:\"{college[\"city\"]}\"'\n",
    "    create_node(label, features)\n",
    "for i, char in enumerate(my_graph[\"characters\"]):\n",
    "    label = 'character'\n",
    "    features = f'name:\"{char[\"name\"]}\", book:\"{char[\"book\"]}\", alterego:\"{char[\"alter ego\"]}\"'\n",
    "    create_node(label, features)"
   ]
  },
  {
   "cell_type": "code",
   "execution_count": 5,
   "metadata": {},
   "outputs": [],
   "source": [
    "for i, char in enumerate(my_graph[\"characters\"]):\n",
    "    if \"book2\" in char.keys():\n",
    "        update_node(char[\"name\"], \"book2\", char[\"book2\"])\n",
    "    if \"book3\" in char.keys():\n",
    "        update_node(char[\"name\"], \"book3\", char[\"book3\"])"
   ]
  },
  {
   "cell_type": "code",
   "execution_count": 6,
   "metadata": {},
   "outputs": [
    {
     "data": {
      "text/plain": [
       "<neo4j.work.result.Result at 0x265e392ec10>"
      ]
     },
     "execution_count": 6,
     "metadata": {},
     "output_type": "execute_result"
    }
   ],
   "source": [
    "session.run('match (b:book), (p:person) where p.name = \"Jack Kerouac\" create (p)-[r:IS_AUTHOR_OF]->(b)')"
   ]
  },
  {
   "cell_type": "code",
   "execution_count": 7,
   "metadata": {},
   "outputs": [
    {
     "data": {
      "text/plain": [
       "<neo4j.work.result.Result at 0x265e4bd01c0>"
      ]
     },
     "execution_count": 7,
     "metadata": {},
     "output_type": "execute_result"
    }
   ],
   "source": [
    "session.run('match (c:character), (p:person) where p.name = c.alterego create (c)-[r:IS_ALTER_EGO_OF]->(p)')"
   ]
  },
  {
   "cell_type": "code",
   "execution_count": 8,
   "metadata": {},
   "outputs": [
    {
     "data": {
      "text/plain": [
       "<neo4j.work.result.Result at 0x265e4bd8a00>"
      ]
     },
     "execution_count": 8,
     "metadata": {},
     "output_type": "execute_result"
    }
   ],
   "source": [
    "session.run('''match (c:character), (b:book) where c.book = b.name or c.book2 = b.name \n",
    "or c.book3 = b.name create (c)-[r:IS_CHARACTER_OF]->(b)''')"
   ]
  },
  {
   "cell_type": "code",
   "execution_count": 9,
   "metadata": {},
   "outputs": [
    {
     "data": {
      "text/plain": [
       "<neo4j.work.result.Result at 0x265e4bd8be0>"
      ]
     },
     "execution_count": 9,
     "metadata": {},
     "output_type": "execute_result"
    }
   ],
   "source": [
    "session.run('match (a), (b) where a.name = \"Allen Ginsberg\" and b.name = \"Peter Orlovsky\" create (b)-[r:IS_PARTNER_OF]->(a)')"
   ]
  },
  {
   "cell_type": "code",
   "execution_count": 10,
   "metadata": {},
   "outputs": [
    {
     "data": {
      "text/plain": [
       "<neo4j.work.result.Result at 0x265e4bd0550>"
      ]
     },
     "execution_count": 10,
     "metadata": {},
     "output_type": "execute_result"
    }
   ],
   "source": [
    "session.run('''match (a), (b) where a.name = \"Carolyn Cassady\" and b.name = \"Neal Cassady\" \n",
    "create (a)-[r:IS_PARTNER_OF {since:1948, divorced:1963}]->(b)''')"
   ]
  },
  {
   "cell_type": "code",
   "execution_count": 11,
   "metadata": {},
   "outputs": [
    {
     "data": {
      "text/plain": [
       "<neo4j.work.result.Result at 0x265e4bd0a30>"
      ]
     },
     "execution_count": 11,
     "metadata": {},
     "output_type": "execute_result"
    }
   ],
   "source": [
    "session.run('match (p:person), (c:college) where p.studied=c.name create (p)-[r:STUDIED_AT]->(c)')"
   ]
  },
  {
   "cell_type": "code",
   "execution_count": 12,
   "metadata": {},
   "outputs": [],
   "source": [
    "#session.run('match(n) detach delete n')"
   ]
  }
 ],
 "metadata": {
  "kernelspec": {
   "display_name": "Python 3",
   "language": "python",
   "name": "python3"
  },
  "language_info": {
   "codemirror_mode": {
    "name": "ipython",
    "version": 3
   },
   "file_extension": ".py",
   "mimetype": "text/x-python",
   "name": "python",
   "nbconvert_exporter": "python",
   "pygments_lexer": "ipython3",
   "version": "3.8.5"
  }
 },
 "nbformat": 4,
 "nbformat_minor": 4
}
