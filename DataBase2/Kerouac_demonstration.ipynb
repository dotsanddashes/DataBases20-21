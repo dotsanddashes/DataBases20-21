{
 "cells": [
  {
   "cell_type": "markdown",
   "metadata": {},
   "source": [
    "# Подключение к базе данных"
   ]
  },
  {
   "cell_type": "code",
   "execution_count": 3,
   "metadata": {},
   "outputs": [],
   "source": [
    "from neo4j import GraphDatabase, basic_auth\n",
    "\n",
    "driver = GraphDatabase.driver(\n",
    "    \"bolt://3.235.199.126:7687\", \n",
    "    auth=basic_auth(\"neo4j\", \"adverb-steel-lieutenant\"))\n",
    "session = driver.session()"
   ]
  },
  {
   "cell_type": "markdown",
   "metadata": {},
   "source": [
    "# CRUD: create, read, update, delete\n",
    "\n",
    "Предполагается, что у каждого узла должны быть лейбл и имя, а у каждого отношения - тип.\n",
    "\n",
    "## Узлы"
   ]
  },
  {
   "cell_type": "code",
   "execution_count": 2,
   "metadata": {},
   "outputs": [],
   "source": [
    "def create_node(label, name):\n",
    "    req=\"CREATE (n:\"+label+\" {name:'\"+name+\"'}) RETURN n\"\n",
    "    res = session.run(req)\n",
    "    for record in res:\n",
    "        print(record)\n",
    "    return\n",
    "\n",
    "def read_node(label, feat_name, feat):\n",
    "    if label != '':\n",
    "        label = ':' + label\n",
    "    \n",
    "    if feat_name != '':\n",
    "        req=\"MATCH (n\"+label+\") WHERE n.\"+feat_name+\" = '\"+feat+\"'  RETURN n\"\n",
    "    else:\n",
    "        req=\"MATCH (n\"+label+\") RETURN n\"\n",
    "        \n",
    "    res = session.run(req)\n",
    "    for record in res:\n",
    "        print(record)\n",
    "    return\n",
    "\n",
    "def update_node(name, feat_name, feat):\n",
    "    req=\"MATCH (n {name:'\"+name+\"'}) SET n.\"+feat_name+\" = '\"+feat+\"' RETURN n\"\n",
    "    res = session.run(req)\n",
    "    for record in res:\n",
    "        print(record)\n",
    "    return\n",
    "\n",
    "def delete_node(label, feat_name, feat):\n",
    "    if label != '':\n",
    "        label = ':' + label\n",
    "    \n",
    "    if feat_name != '':\n",
    "        req=\"MATCH (n\"+label+\") WHERE n.\"+feat_name+\" = '\"+feat+\"'  DETACH DELETE n\"\n",
    "    else:\n",
    "        req=\"MATCH (n\"+label+\") DETACH DELETE n\"\n",
    "    return session.run(req)"
   ]
  },
  {
   "cell_type": "markdown",
   "metadata": {},
   "source": [
    "## Примеры\n",
    "\n",
    "Добавим еще одну книгу и выведем все узлы с лейблом \"книга\""
   ]
  },
  {
   "cell_type": "code",
   "execution_count": 4,
   "metadata": {
    "scrolled": true
   },
   "outputs": [
    {
     "name": "stdout",
     "output_type": "stream",
     "text": [
      "<Record n=<Node id=37 labels=frozenset({'book'}) properties={'name': 'Tristessa'}>>\n"
     ]
    }
   ],
   "source": [
    "create_node(\"book\", \"Tristessa\")"
   ]
  },
  {
   "cell_type": "code",
   "execution_count": 5,
   "metadata": {},
   "outputs": [
    {
     "name": "stdout",
     "output_type": "stream",
     "text": [
      "<Record n=<Node id=8 labels=frozenset({'book'}) properties={'name': 'On the Road', 'public_year': '1957'}>>\n",
      "<Record n=<Node id=9 labels=frozenset({'book'}) properties={'name': 'The Dharma Bums', 'public_year': '1958'}>>\n",
      "<Record n=<Node id=10 labels=frozenset({'book'}) properties={'name': 'Big Sur', 'public_year': '1962'}>>\n",
      "<Record n=<Node id=11 labels=frozenset({'book'}) properties={'name': 'Desolation Angels', 'public_year': '1965'}>>\n",
      "<Record n=<Node id=37 labels=frozenset({'book'}) properties={'name': 'Tristessa'}>>\n"
     ]
    }
   ],
   "source": [
    "read_node(\"book\", '', '')"
   ]
  },
  {
   "cell_type": "code",
   "execution_count": null,
   "metadata": {},
   "outputs": [],
   "source": [
    "#delete_node('', 'name', 'Tristessa')"
   ]
  },
  {
   "cell_type": "markdown",
   "metadata": {},
   "source": [
    "Выведем список альтер-эго одного человека:"
   ]
  },
  {
   "cell_type": "code",
   "execution_count": 6,
   "metadata": {
    "scrolled": true
   },
   "outputs": [
    {
     "name": "stdout",
     "output_type": "stream",
     "text": [
      "<Record n=<Node id=15 labels=frozenset({'character'}) properties={'name': 'Sal Paradise', 'alterego': 'Jack Kerouac', 'book': 'On the Road'}>>\n",
      "<Record n=<Node id=22 labels=frozenset({'character'}) properties={'name': 'Ray Smith', 'alterego': 'Jack Kerouac', 'book': 'The Dharma Bums'}>>\n",
      "<Record n=<Node id=29 labels=frozenset({'character'}) properties={'book2': 'Desolation Angels', 'name': 'Jack Duluoz', 'alterego': 'Jack Kerouac', 'book': 'Big Sur'}>>\n"
     ]
    }
   ],
   "source": [
    "read_node('', 'alterego', 'Jack Kerouac')"
   ]
  },
  {
   "cell_type": "markdown",
   "metadata": {},
   "source": [
    "Добавим нового персонажа и укажем, чьим альтер-эго он является:"
   ]
  },
  {
   "cell_type": "code",
   "execution_count": 7,
   "metadata": {},
   "outputs": [
    {
     "name": "stdout",
     "output_type": "stream",
     "text": [
      "<Record n=<Node id=40 labels=frozenset({'character'}) properties={'name': 'Lazarus Darlovsky'}>>\n"
     ]
    }
   ],
   "source": [
    "create_node('character', 'Lazarus Darlovsky')"
   ]
  },
  {
   "cell_type": "code",
   "execution_count": 8,
   "metadata": {},
   "outputs": [
    {
     "name": "stdout",
     "output_type": "stream",
     "text": [
      "<Record n=<Node id=40 labels=frozenset({'character'}) properties={'name': 'Lazarus Darlovsky', 'alterego': 'Julius Orlovsky'}>>\n"
     ]
    }
   ],
   "source": [
    "update_node('Lazarus Darlovsky', 'alterego', 'Julius Orlovsky')"
   ]
  },
  {
   "cell_type": "code",
   "execution_count": null,
   "metadata": {},
   "outputs": [],
   "source": [
    "#delete_node_by_name('Lazarus Darlovsky')"
   ]
  },
  {
   "cell_type": "markdown",
   "metadata": {},
   "source": [
    "Добавим узел нового класса - поэму - и построим отношение, указав, кто ее автор:"
   ]
  },
  {
   "cell_type": "code",
   "execution_count": 9,
   "metadata": {
    "scrolled": true
   },
   "outputs": [
    {
     "name": "stdout",
     "output_type": "stream",
     "text": [
      "<Record n=<Node id=41 labels=frozenset({'poem'}) properties={'name': 'Howl'}>>\n"
     ]
    }
   ],
   "source": [
    "create_node('poem', 'Howl')"
   ]
  },
  {
   "cell_type": "code",
   "execution_count": 10,
   "metadata": {},
   "outputs": [
    {
     "data": {
      "text/plain": [
       "<neo4j.work.result.Result at 0x204d4c68250>"
      ]
     },
     "execution_count": 10,
     "metadata": {},
     "output_type": "execute_result"
    }
   ],
   "source": [
    "session.run('MATCH (n:poem), (p:person) WHERE p.name = \"Allen Ginsberg\" CREATE (p)-[r:IS_AUTHOR_OF]->(n)')"
   ]
  },
  {
   "cell_type": "code",
   "execution_count": null,
   "metadata": {},
   "outputs": [],
   "source": [
    "#delete_node('poem', '', '')"
   ]
  },
  {
   "cell_type": "markdown",
   "metadata": {},
   "source": [
    "Выведем всех персонажей одной книги:"
   ]
  },
  {
   "cell_type": "code",
   "execution_count": 12,
   "metadata": {},
   "outputs": [
    {
     "name": "stdout",
     "output_type": "stream",
     "text": [
      "<Record (b)--(c)=[<Path start=<Node id=8 labels=frozenset({'book'}) properties={'name': 'On the Road', 'public_year': '1957'}> end=<Node id=16 labels=frozenset({'character'}) properties={'name': 'Carlo Marx', 'alterego': 'Allen Ginsberg', 'book': 'On the Road'}> size=1>]>\n",
      "<Record (b)--(c)=[<Path start=<Node id=8 labels=frozenset({'book'}) properties={'name': 'On the Road', 'public_year': '1957'}> end=<Node id=20 labels=frozenset({'character'}) properties={'name': 'Damion', 'alterego': 'Lucien Carr', 'book': 'On the Road'}> size=1>]>\n",
      "<Record (b)--(c)=[<Path start=<Node id=8 labels=frozenset({'book'}) properties={'name': 'On the Road', 'public_year': '1957'}> end=<Node id=19 labels=frozenset({'character'}) properties={'name': 'Camille', 'alterego': 'Carolyn Cassady', 'book': 'On the Road'}> size=1>]>\n",
      "<Record (b)--(c)=[<Path start=<Node id=8 labels=frozenset({'book'}) properties={'name': 'On the Road', 'public_year': '1957'}> end=<Node id=18 labels=frozenset({'character'}) properties={'name': 'Dean Moriarty', 'alterego': 'Neal Cassady', 'book': 'On the Road'}> size=1>]>\n",
      "<Record (b)--(c)=[<Path start=<Node id=8 labels=frozenset({'book'}) properties={'name': 'On the Road', 'public_year': '1957'}> end=<Node id=15 labels=frozenset({'character'}) properties={'name': 'Sal Paradise', 'alterego': 'Jack Kerouac', 'book': 'On the Road'}> size=1>]>\n",
      "<Record (b)--(c)=[<Path start=<Node id=8 labels=frozenset({'book'}) properties={'name': 'On the Road', 'public_year': '1957'}> end=<Node id=21 labels=frozenset({'character'}) properties={'name': 'Ian MacArthur', 'alterego': 'John Clellon Holmes', 'book': 'On the Road'}> size=1>]>\n",
      "<Record (b)--(c)=[<Path start=<Node id=8 labels=frozenset({'book'}) properties={'name': 'On the Road', 'public_year': '1957'}> end=<Node id=17 labels=frozenset({'character'}) properties={'name': 'Old Bull Lee', 'alterego': 'William S. Burroughs', 'book': 'On the Road'}> size=1>]>\n"
     ]
    }
   ],
   "source": [
    "res = session.run('MATCH (b:book {name:\"On the Road\"})<-[r:IS_CHARACTER_OF]-(c) RETURN (b)--(c)')\n",
    "for record in res:\n",
    "    print(record)"
   ]
  },
  {
   "cell_type": "markdown",
   "metadata": {},
   "source": [
    "## Агрегация и сортировка\n",
    "Выведем средний возраст"
   ]
  },
  {
   "cell_type": "code",
   "execution_count": 13,
   "metadata": {},
   "outputs": [
    {
     "name": "stdout",
     "output_type": "stream",
     "text": [
      "<Record avg(p.age)=72.19999999999999>\n"
     ]
    }
   ],
   "source": [
    "session.run('''MATCH (a:person), (b:person)\n",
    "WHERE a.death_year <> '' AND b.death_year = ''\n",
    "SET a.age = abs(toInteger(a.death_year) - toInteger(a.birth_year)), b.age = abs(2021 - toInteger(b.birth_year))\n",
    "''')\n",
    "res = session.run('MATCH (p:person) RETURN avg(p.age)')\n",
    "for record in res:\n",
    "    print(record)"
   ]
  },
  {
   "cell_type": "markdown",
   "metadata": {},
   "source": [
    "Сортировка по году рождения"
   ]
  },
  {
   "cell_type": "code",
   "execution_count": null,
   "metadata": {
    "scrolled": true
   },
   "outputs": [],
   "source": [
    "res = session.run('MATCH (p:person) RETURN p.name, p.birth_year ORDER BY p.birth_year, p.name')\n",
    "for record in res:\n",
    "    print(record)"
   ]
  },
  {
   "cell_type": "code",
   "execution_count": null,
   "metadata": {},
   "outputs": [],
   "source": []
  },
  {
   "cell_type": "code",
   "execution_count": null,
   "metadata": {},
   "outputs": [],
   "source": []
  }
 ],
 "metadata": {
  "kernelspec": {
   "display_name": "Python 3",
   "language": "python",
   "name": "python3"
  },
  "language_info": {
   "codemirror_mode": {
    "name": "ipython",
    "version": 3
   },
   "file_extension": ".py",
   "mimetype": "text/x-python",
   "name": "python",
   "nbconvert_exporter": "python",
   "pygments_lexer": "ipython3",
   "version": "3.8.5"
  }
 },
 "nbformat": 4,
 "nbformat_minor": 4
}
